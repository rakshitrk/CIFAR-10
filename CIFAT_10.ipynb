{
  "nbformat": 4,
  "nbformat_minor": 0,
  "metadata": {
    "colab": {
      "name": "CIFAT-10.ipynb",
      "version": "0.3.2",
      "provenance": [],
      "collapsed_sections": [],
      "include_colab_link": true
    },
    "kernelspec": {
      "name": "python3",
      "display_name": "Python 3"
    },
    "accelerator": "GPU"
  },
  "cells": [
    {
      "cell_type": "markdown",
      "metadata": {
        "id": "view-in-github",
        "colab_type": "text"
      },
      "source": [
        "<a href=\"https://colab.research.google.com/github/rakshitrk/CIFAR-10/blob/master/CIFAT_10.ipynb\" target=\"_parent\"><img src=\"https://colab.research.google.com/assets/colab-badge.svg\" alt=\"Open In Colab\"/></a>"
      ]
    },
    {
      "metadata": {
        "id": "ZxAh3y8LAcu5",
        "colab_type": "code",
        "colab": {}
      },
      "cell_type": "code",
      "source": [
        "import torch\n",
        "import torchvision\n",
        "from torchvision import transforms\n",
        "from torchvision import datasets\n",
        "import torch.optim as optim\n",
        "import torch.nn.functional as F\n",
        "import torch.nn as nn\n",
        "import numpy as np\n",
        "import matplotlib.pyplot as plt\n",
        "from torch.utils.data.sampler import SubsetRandomSampler\n"
      ],
      "execution_count": 0,
      "outputs": []
    },
    {
      "metadata": {
        "id": "WW5u7CB-Ad0H",
        "colab_type": "code",
        "outputId": "56d74585-dd06-452f-a549-8d22e4dbbd70",
        "colab": {
          "base_uri": "https://localhost:8080/",
          "height": 35
        }
      },
      "cell_type": "code",
      "source": [
        "bs = 20\n",
        "ep = 20\n",
        "val_split = 0.2\n",
        "\n",
        "transform = transforms.Compose([\n",
        "    transforms.ToTensor(),\n",
        "    transforms.Normalize((0.5, 0.5, 0.5), (0.5, 0.5, 0.5))])\n",
        "\n",
        "train_data = datasets.CIFAR10('data', train = True, download = True, transform = transform)\n",
        "test_data = datasets.CIFAR10('data', train = False, download = False, transform = transform)\n"
      ],
      "execution_count": 0,
      "outputs": [
        {
          "output_type": "stream",
          "text": [
            "Downloading https://www.cs.toronto.edu/~kriz/cifar-10-python.tar.gz to data/cifar-10-python.tar.gz\n"
          ],
          "name": "stdout"
        }
      ]
    },
    {
      "metadata": {
        "id": "f_d8HIDaAd6R",
        "colab_type": "code",
        "colab": {}
      },
      "cell_type": "code",
      "source": [
        "#splitting data to test and validation sets\n",
        "size = len(train_data)\n",
        "indices = list(range(size))\n",
        "split = int(np.floor(val_split * size))\n",
        "np.random.shuffle(indices)\n",
        "train_indices, val_indices = indices[split:], indices[:split]\n",
        "\n",
        "train_sampler = SubsetRandomSampler(train_indices)\n",
        "val_sampler = SubsetRandomSampler(val_indices)\n",
        "\n",
        "train_loader = torch.utils.data.DataLoader(train_data, sampler = train_sampler, batch_size = bs)\n",
        "val_loader = torch.utils.data.DataLoader(train_data, sampler = val_sampler, batch_size = bs)\n",
        "test_loader = torch.utils.data.DataLoader(test_data, batch_size = bs)"
      ],
      "execution_count": 0,
      "outputs": []
    },
    {
      "metadata": {
        "id": "0xvgB1dLAd_-",
        "colab_type": "code",
        "outputId": "f992edbc-acd7-4529-fc01-1d78be29d5d1",
        "colab": {
          "base_uri": "https://localhost:8080/",
          "height": 338
        }
      },
      "cell_type": "code",
      "source": [
        "#image classes\n",
        "classes = ['airoplane','automobile','bird','cat','deer','dog','frog','horse','ship','truck']\n",
        "\n",
        "def imshow(img):\n",
        "  img = img/2 + 0.5\n",
        "  plt.imshow(np.transpose(img,(1,2,0)))\n",
        "  \n",
        " \n",
        "  \n",
        "dataiter = iter(train_loader)\n",
        "images, labels = dataiter.next()\n",
        "images = images.numpy()\n",
        "  \n",
        "fig = plt.figure(figsize=(20, 5))\n",
        "\n",
        "# display 20 images\n",
        "for idx in np.arange(10):\n",
        "    ax = fig.add_subplot(2, 10/2, idx+1, xticks=[], yticks=[])\n",
        "    imshow(images[idx])\n",
        "    ax.set_title(classes[labels[idx]])"
      ],
      "execution_count": 0,
      "outputs": [
        {
          "output_type": "display_data",
          "data": {
            "image/png": "[encoded data removed]",
            "text/plain": [
              "<Figure size 1440x360 with 10 Axes>"
            ]
          },
          "metadata": {
            "tags": []
          }
        }
      ]
    },
    {
      "metadata": {
        "id": "NGeIdC3TAeRT",
        "colab_type": "code",
        "outputId": "1cbf7f23-1ed2-408f-f0f3-c04f7b6b23c4",
        "colab": {
          "base_uri": "https://localhost:8080/",
          "height": 201
        }
      },
      "cell_type": "code",
      "source": [
        "class Net(nn.Module):\n",
        "  def __init__(self):\n",
        "    super(Net,self).__init__()\n",
        "    \n",
        "    self.conv1 = nn.Conv2d(3,16,3,padding = 1)\n",
        "    self.conv2 = nn.Conv2d(16,32,3,padding = 1)\n",
        "    self.conv3 = nn.Conv2d(32,64,3,padding = 1)\n",
        "    self.pool = nn.MaxPool2d(2,2)\n",
        "    self.drop = nn.Dropout(0.2)\n",
        "    self.fc1 = nn.Linear(64*4*4,500)\n",
        "    self.fc2 = nn.Linear(500,200)\n",
        "    self.fc3 = nn.Linear(200,10)\n",
        "    \n",
        "  def forward(self, x):\n",
        "    x = self.pool(F.relu(self.conv1(x)))\n",
        "    x = self.pool(F.relu(self.conv2(x)))\n",
        "    x = self.pool(F.relu(self.conv3(x)))\n",
        "    x = x.view(-1,64*4*4)\n",
        "    x = self.drop(x)\n",
        "    x = F.relu(self.fc1(x))\n",
        "    x = self.drop(x)\n",
        "    x = F.relu(self.fc2(x))\n",
        "    x = self.drop(x)\n",
        "    x = F.relu(self.fc3(x))\n",
        "    return x\n",
        "  \n",
        "net = Net()\n",
        "print(net)"
      ],
      "execution_count": 0,
      "outputs": [
        {
          "output_type": "stream",
          "text": [
            "Net(\n",
            "  (conv1): Conv2d(3, 16, kernel_size=(3, 3), stride=(1, 1), padding=(1, 1))\n",
            "  (conv2): Conv2d(16, 32, kernel_size=(3, 3), stride=(1, 1), padding=(1, 1))\n",
            "  (conv3): Conv2d(32, 64, kernel_size=(3, 3), stride=(1, 1), padding=(1, 1))\n",
            "  (pool): MaxPool2d(kernel_size=2, stride=2, padding=0, dilation=1, ceil_mode=False)\n",
            "  (drop): Dropout(p=0.2)\n",
            "  (fc1): Linear(in_features=1024, out_features=500, bias=True)\n",
            "  (fc2): Linear(in_features=500, out_features=200, bias=True)\n",
            "  (fc3): Linear(in_features=200, out_features=10, bias=True)\n",
            ")\n"
          ],
          "name": "stdout"
        }
      ]
    },
    {
      "metadata": {
        "id": "dGr4v0mmNLaK",
        "colab_type": "code",
        "colab": {}
      },
      "cell_type": "code",
      "source": [
        "critersion = nn.CrossEntropyLoss()\n",
        "optimizer = optim.SGD(net.parameters(), lr = 0.01)"
      ],
      "execution_count": 0,
      "outputs": []
    },
    {
      "metadata": {
        "id": "VHiE7DAmN2ZU",
        "colab_type": "code",
        "outputId": "0289a698-60bf-411d-d9c2-5397ef2b0e60",
        "colab": {
          "base_uri": "https://localhost:8080/",
          "height": 1046
        }
      },
      "cell_type": "code",
      "source": [
        "val_loss_min =np.Inf\n",
        "\n",
        "for epoch in range(ep):\n",
        "  \n",
        "    train_loss = 0.0\n",
        "    val_loss = 0.0\n",
        "    \n",
        "    net.train()\n",
        "    for data,target in train_loader:\n",
        "      optimizer.zero_grad()\n",
        "      output = net(data)\n",
        "      loss = critersion(output, target)\n",
        "      loss.backward()\n",
        "      optimizer.step()\n",
        "      train_loss += loss.item()*data.size(0)\n",
        "      \n",
        "    net.eval()\n",
        "    for data,target in val_loader:\n",
        "      output = net(data)\n",
        "      loss = critersion(output, target)\n",
        "      val_loss += loss.item()*data.size(0)\n",
        "      \n",
        "      \n",
        "    train_loss = train_loss/len(train_loader.dataset)\n",
        "    val_loss = val_loss/len(val_loader.dataset)\n",
        "    \n",
        "    print('Epoch:{}\\nTraining Loss:{:6f}\\tValidation Loss:{:6f}'.format(epoch,train_loss,val_loss))\n",
        "      \n",
        "    if val_loss <= val_loss_min:\n",
        "      print('Validation Loss Dec. {:6f}--->{:6f}\\t...SAVING...'.format(val_loss_min,val_loss))\n",
        "      torch.save(net.state_dict(),'n.pt')\n",
        "      val_loss_min = val_loss"
      ],
      "execution_count": 0,
      "outputs": [
        {
          "output_type": "stream",
          "text": [
            "Epoch:0\n",
            "Training Loss:1.159545\tValidation Loss:0.267603\n",
            "Validation Loss Dec.    inf--->0.267603\t...SAVING...\n",
            "Epoch:1\n",
            "Training Loss:1.068352\tValidation Loss:0.262098\n",
            "Validation Loss Dec. 0.267603--->0.262098\t...SAVING...\n",
            "Epoch:2\n",
            "Training Loss:0.994978\tValidation Loss:0.238088\n",
            "Validation Loss Dec. 0.262098--->0.238088\t...SAVING...\n",
            "Epoch:3\n",
            "Training Loss:0.930248\tValidation Loss:0.217916\n",
            "Validation Loss Dec. 0.238088--->0.217916\t...SAVING...\n",
            "Epoch:4\n",
            "Training Loss:0.876164\tValidation Loss:0.205276\n",
            "Validation Loss Dec. 0.217916--->0.205276\t...SAVING...\n",
            "Epoch:5\n",
            "Training Loss:0.831858\tValidation Loss:0.195710\n",
            "Validation Loss Dec. 0.205276--->0.195710\t...SAVING...\n",
            "Epoch:6\n",
            "Training Loss:0.788774\tValidation Loss:0.193007\n",
            "Validation Loss Dec. 0.195710--->0.193007\t...SAVING...\n",
            "Epoch:7\n",
            "Training Loss:0.750030\tValidation Loss:0.181792\n",
            "Validation Loss Dec. 0.193007--->0.181792\t...SAVING...\n",
            "Epoch:8\n",
            "Training Loss:0.711466\tValidation Loss:0.180640\n",
            "Validation Loss Dec. 0.181792--->0.180640\t...SAVING...\n",
            "Epoch:9\n",
            "Training Loss:0.681133\tValidation Loss:0.171851\n",
            "Validation Loss Dec. 0.180640--->0.171851\t...SAVING...\n",
            "Epoch:10\n",
            "Training Loss:0.651368\tValidation Loss:0.171795\n",
            "Validation Loss Dec. 0.171851--->0.171795\t...SAVING...\n",
            "Epoch:11\n",
            "Training Loss:0.619558\tValidation Loss:0.164285\n",
            "Validation Loss Dec. 0.171795--->0.164285\t...SAVING...\n",
            "Epoch:12\n",
            "Training Loss:0.590853\tValidation Loss:0.156323\n",
            "Validation Loss Dec. 0.164285--->0.156323\t...SAVING...\n",
            "Epoch:13\n",
            "Training Loss:0.566902\tValidation Loss:0.157055\n",
            "Epoch:14\n",
            "Training Loss:0.537413\tValidation Loss:0.156254\n",
            "Validation Loss Dec. 0.156323--->0.156254\t...SAVING...\n",
            "Epoch:15\n",
            "Training Loss:0.511291\tValidation Loss:0.156037\n",
            "Validation Loss Dec. 0.156254--->0.156037\t...SAVING...\n",
            "Epoch:16\n",
            "Training Loss:0.488264\tValidation Loss:0.149171\n",
            "Validation Loss Dec. 0.156037--->0.149171\t...SAVING...\n",
            "Epoch:17\n",
            "Training Loss:0.461266\tValidation Loss:0.152246\n",
            "Epoch:18\n",
            "Training Loss:0.439949\tValidation Loss:0.153534\n",
            "Epoch:19\n",
            "Training Loss:0.420020\tValidation Loss:0.149218\n"
          ],
          "name": "stdout"
        }
      ]
    },
    {
      "metadata": {
        "id": "7j72ccJrEphj",
        "colab_type": "code",
        "colab": {}
      },
      "cell_type": "code",
      "source": [
        "net.load_state_dict(torch.load('n.pt'))"
      ],
      "execution_count": 0,
      "outputs": []
    },
    {
      "metadata": {
        "id": "pxxM6KiYFUwr",
        "colab_type": "code",
        "outputId": "aa329b9b-c9a9-4c11-e0a2-884dce2d4a57",
        "colab": {
          "base_uri": "https://localhost:8080/",
          "height": 35
        }
      },
      "cell_type": "code",
      "source": [
        "net.eval()\n",
        "for data,target in test_loader:\n",
        "  output = net(data)\n",
        "  _, pred = torch.max(output, 1)\n",
        "  \n",
        "correct = 0\n",
        "total = 0\n",
        "\n",
        "for data in test_loader:\n",
        "  images,labels = data\n",
        "  output = net(images)\n",
        "  _, pred = torch.max(output,1)\n",
        "  \n",
        "  total += labels.size(0)\n",
        "  correct += (pred == labels).sum().item()\n",
        "  \n",
        "  acc = 100*correct/total\n",
        "print('Accuracy of model:{}%'.format(acc))\n",
        "  \n",
        "  "
      ],
      "execution_count": 0,
      "outputs": [
        {
          "output_type": "stream",
          "text": [
            "Accuracy of model:74.03%\n"
          ],
          "name": "stdout"
        }
      ]
    }
  ]
}